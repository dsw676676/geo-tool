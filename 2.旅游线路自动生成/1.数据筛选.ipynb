{
 "cells": [
  {
   "cell_type": "markdown",
   "id": "726264df",
   "metadata": {},
   "source": [
    "# 数据筛选\n",
    "筛选北京数据"
   ]
  },
  {
   "cell_type": "code",
   "execution_count": 1,
   "id": "afae869d",
   "metadata": {},
   "outputs": [
    {
     "name": "stderr",
     "output_type": "stream",
     "text": [
      "E:\\Program Files\\miniconda3\\envs\\geo\\lib\\site-packages\\pyproj\\__init__.py:73: UserWarning: Valid PROJ data directory not found. Either set the path using the environmental variable PROJ_LIB or with `pyproj.datadir.set_data_dir`.\n",
      "  warnings.warn(str(err))\n",
      "PROJ: proj_create_from_database: Cannot find proj.db\n"
     ]
    }
   ],
   "source": [
    "import geopandas as gpd\n",
    "import matplotlib as plt\n",
    "import pandas as pd\n",
    "import os, glob"
   ]
  },
  {
   "cell_type": "markdown",
   "id": "4af0a642",
   "metadata": {},
   "source": [
    "## 遍历文件"
   ]
  },
  {
   "cell_type": "code",
   "execution_count": 4,
   "id": "a8bd9bdc",
   "metadata": {},
   "outputs": [],
   "source": [
    "from_path = r\"E:\\Netease\\智慧城市\\1.sixfoot全部相关数据\\六只脚基本数据\\【六只脚初始数据备份】（未给投影）\" #输入地址\n",
    "to_path = r\"E:\\Netease\\智慧城市\\4.处理数据\""
   ]
  },
  {
   "cell_type": "code",
   "execution_count": 3,
   "id": "86e9066c",
   "metadata": {},
   "outputs": [
    {
     "name": "stdout",
     "output_type": "stream",
     "text": [
      "32\n"
     ]
    }
   ],
   "source": [
    "datadirs = []\n",
    "\n",
    "for root,dirs,files in os.walk(from_path, topdown=False):\n",
    "    for name in dirs: #遍历文件夹\n",
    "        sigdir = os.path.join(root,name)\n",
    "\n",
    "        pt = glob.glob(sigdir + r'\\*track*.shp')\n",
    "        datadirs.append(pt)\n",
    "\n",
    "from itertools import chain\n",
    "\n",
    "obj = chain.from_iterable(datadirs)\n",
    "ls = list(obj)\n",
    "print(len(ls))"
   ]
  },
  {
   "cell_type": "markdown",
   "id": "d7006350",
   "metadata": {},
   "source": [
    "## 数据筛选"
   ]
  },
  {
   "cell_type": "code",
   "execution_count": 4,
   "id": "8f2a3dfe",
   "metadata": {},
   "outputs": [],
   "source": [
    "track_zj = pd.read_csv(to_path+r\"\\rawdata\\行程信息.csv\") #用户属性→赋值\n",
    "track_zj[\"tripid\"] = track_zj[\"tripid\"].astype(\"str\")\n",
    "pl_bj = gpd.read_file(to_path+r\"\\rawdata\\北京市行政边界.shp\") #北京行政边界→筛选"
   ]
  },
  {
   "cell_type": "code",
   "execution_count": 5,
   "id": "8f13dbdc",
   "metadata": {},
   "outputs": [
    {
     "name": "stdout",
     "output_type": "stream",
     "text": [
      "0 E:\\Netease\\智慧城市\\1.sixfoot全部相关数据\\六只脚基本数据\\【六只脚初始数据备份】（未给投影）\\1_300000已完成（除去60000_160000，494_15494）\\120001_147850\\track120001_147850.shp\n",
      "     tripid           location   title                              triptime   \n",
      "0    760115   北京 大兴区 - 北京 北京市区     颐和园  于 2015-08-22 05:12 出发,历时 6 小时, 34 分钟  \\\n",
      "1    760116   北京 北京市区 - 天津 武清区     回东营  于 2015-08-23 08:46 出发,历时 5 小时, 52 分钟   \n",
      "172  383433    北京 房山区 - 北京 房山区   第一次徒步  于 2015-05-01 11:14 出发,历时 4 小时, 17 分钟   \n",
      "186  698052  北京 北京市区 - 北京 北京市区  单位-大兴家  于 2015-06-11 18:06 出发,历时 1 小时, 50 分钟   \n",
      "318  702379  北京 北京市区 - 北京 北京市区  庞各庄买西瓜   于 2015-06-16 14:39 出发,历时 3 小时, 9 分钟   \n",
      "\n",
      "    triptype                                           geometry  \n",
      "0       观光旅行  MULTILINESTRING ((116.34184 39.77314, 116.3418...  \n",
      "1       观光旅行  MULTILINESTRING ((116.39761 39.99234, 116.3989...  \n",
      "172     观光旅行  MULTILINESTRING ((116.04109 39.78335, 116.0411...  \n",
      "186       骑行  MULTILINESTRING ((116.44232 39.92296, 116.4430...  \n",
      "318       骑行  MULTILINESTRING ((116.36740 39.88326, 116.3673...  \n"
     ]
    }
   ],
   "source": [
    "for a,i in enumerate(ls):\n",
    "    print(a,i)\n",
    "    track = gpd.read_file(i) #读取轨迹文件\n",
    "\n",
    "    track_bj = gpd.overlay(track,pl_bj,how = 'intersection',keep_geom_type=False) #筛选：图层取交集\n",
    "    track_bj.head()\n",
    "    if track_bj.empty is True:\n",
    "        continue\n",
    "    else:\n",
    "        track_bj.to_file(to_path+r'\\workingdata\\track_zj_'+str(a)+'.shp',encoding = 'utf-8') #图层导出shp"
   ]
  },
  {
   "cell_type": "markdown",
   "id": "23d9ceee",
   "metadata": {},
   "source": [
    "### 筛选代码测试"
   ]
  },
  {
   "cell_type": "code",
   "execution_count": null,
   "id": "f699fa81",
   "metadata": {},
   "outputs": [],
   "source": [
    "pl_bj.plot()"
   ]
  },
  {
   "cell_type": "code",
   "execution_count": 2,
   "id": "9173a420",
   "metadata": {},
   "outputs": [
    {
     "data": {
      "text/html": [
       "<div>\n",
       "<style scoped>\n",
       "    .dataframe tbody tr th:only-of-type {\n",
       "        vertical-align: middle;\n",
       "    }\n",
       "\n",
       "    .dataframe tbody tr th {\n",
       "        vertical-align: top;\n",
       "    }\n",
       "\n",
       "    .dataframe thead th {\n",
       "        text-align: right;\n",
       "    }\n",
       "</style>\n",
       "<table border=\"1\" class=\"dataframe\">\n",
       "  <thead>\n",
       "    <tr style=\"text-align: right;\">\n",
       "      <th></th>\n",
       "      <th>tripid</th>\n",
       "      <th>geometry</th>\n",
       "    </tr>\n",
       "  </thead>\n",
       "  <tbody>\n",
       "    <tr>\n",
       "      <th>0</th>\n",
       "      <td>78482</td>\n",
       "      <td>LINESTRING (116.14062 41.31410, 116.14062 41.3...</td>\n",
       "    </tr>\n",
       "    <tr>\n",
       "      <th>1</th>\n",
       "      <td>176618</td>\n",
       "      <td>LINESTRING (116.38680 39.98814, 116.38668 39.9...</td>\n",
       "    </tr>\n",
       "    <tr>\n",
       "      <th>2</th>\n",
       "      <td>177770</td>\n",
       "      <td>LINESTRING (99.88936 38.92271, 99.88895 38.922...</td>\n",
       "    </tr>\n",
       "    <tr>\n",
       "      <th>3</th>\n",
       "      <td>259361</td>\n",
       "      <td>LINESTRING (108.70866 40.53814, 108.69235 40.5...</td>\n",
       "    </tr>\n",
       "    <tr>\n",
       "      <th>4</th>\n",
       "      <td>57</td>\n",
       "      <td>LINESTRING (88.88571 29.26419, 88.89504 29.264...</td>\n",
       "    </tr>\n",
       "  </tbody>\n",
       "</table>\n",
       "</div>"
      ],
      "text/plain": [
       "   tripid                                           geometry\n",
       "0   78482  LINESTRING (116.14062 41.31410, 116.14062 41.3...\n",
       "1  176618  LINESTRING (116.38680 39.98814, 116.38668 39.9...\n",
       "2  177770  LINESTRING (99.88936 38.92271, 99.88895 38.922...\n",
       "3  259361  LINESTRING (108.70866 40.53814, 108.69235 40.5...\n",
       "4      57  LINESTRING (88.88571 29.26419, 88.89504 29.264..."
      ]
     },
     "execution_count": 2,
     "metadata": {},
     "output_type": "execute_result"
    }
   ],
   "source": [
    "track = gpd.read_file(r'E:\\Netease\\智慧城市\\1.sixfoot全部相关数据\\六只脚基本数据\\【六只脚初始数据备份】（未给投影）\\1_300000已完成（除去60000_160000，494_15494）\\2_492+16040_60000+160000_222080\\track2_492+16040_60000+160000_222080.shp')\n",
    "track.head()"
   ]
  },
  {
   "cell_type": "code",
   "execution_count": 5,
   "id": "d60f68c0",
   "metadata": {},
   "outputs": [
    {
     "data": {
      "text/html": [
       "<div>\n",
       "<style scoped>\n",
       "    .dataframe tbody tr th:only-of-type {\n",
       "        vertical-align: middle;\n",
       "    }\n",
       "\n",
       "    .dataframe tbody tr th {\n",
       "        vertical-align: top;\n",
       "    }\n",
       "\n",
       "    .dataframe thead th {\n",
       "        text-align: right;\n",
       "    }\n",
       "</style>\n",
       "<table border=\"1\" class=\"dataframe\">\n",
       "  <thead>\n",
       "    <tr style=\"text-align: right;\">\n",
       "      <th></th>\n",
       "      <th>Unnamed: 0</th>\n",
       "      <th>description</th>\n",
       "      <th>location</th>\n",
       "      <th>title</th>\n",
       "      <th>tripid</th>\n",
       "      <th>triptime</th>\n",
       "      <th>triptype</th>\n",
       "      <th>userid</th>\n",
       "      <th>username</th>\n",
       "    </tr>\n",
       "  </thead>\n",
       "  <tbody>\n",
       "    <tr>\n",
       "      <th>0</th>\n",
       "      <td>0</td>\n",
       "      <td>晚公园处扎帐篷，一晚上就是吵，车多，早上停车场就被封了，进入要收费。</td>\n",
       "      <td>山东 潍坊 诸城市 - 山东 潍坊 诸城市</td>\n",
       "      <td>20180526诸城</td>\n",
       "      <td>1675488</td>\n",
       "      <td>于 2018-05-26 19:01 出发,历时 1 小时, 6 分钟</td>\n",
       "      <td>观光旅行</td>\n",
       "      <td>120912</td>\n",
       "      <td>wangqiuxiang</td>\n",
       "    </tr>\n",
       "    <tr>\n",
       "      <th>1</th>\n",
       "      <td>1</td>\n",
       "      <td>这条环线是走过的线路里比较美的一条了，特别是石门那段，沿途溪流和飞瀑相伴，秋色与古道并存，值...</td>\n",
       "      <td>浙江 宁波 余姚市 - 浙江 宁波 余姚市</td>\n",
       "      <td>余姚燕窝古道</td>\n",
       "      <td>792091</td>\n",
       "      <td>于 2015-10-31 08:26 出发,历时 6 小时, 32 分钟</td>\n",
       "      <td>徒步</td>\n",
       "      <td>120916</td>\n",
       "      <td>600690A8B8@qq</td>\n",
       "    </tr>\n",
       "    <tr>\n",
       "      <th>2</th>\n",
       "      <td>2</td>\n",
       "      <td>无</td>\n",
       "      <td>浙江 宁波 余姚市 - 浙江 宁波 余姚市</td>\n",
       "      <td>斤岭古道</td>\n",
       "      <td>817344</td>\n",
       "      <td>于 2015-12-27 09:46 出发,历时 4 小时, 23 分钟</td>\n",
       "      <td>徒步</td>\n",
       "      <td>120916</td>\n",
       "      <td>600690A8B8@qq</td>\n",
       "    </tr>\n",
       "    <tr>\n",
       "      <th>3</th>\n",
       "      <td>3</td>\n",
       "      <td>自驾游，有段挺险的</td>\n",
       "      <td>山东 东营 东营区 - 山东 东营 东营区</td>\n",
       "      <td>20180602海上房</td>\n",
       "      <td>1687717</td>\n",
       "      <td>于 2018-06-02 05:33 出发,历时 15 小时, 16 分钟</td>\n",
       "      <td>登山</td>\n",
       "      <td>120912</td>\n",
       "      <td>wangqiuxiang</td>\n",
       "    </tr>\n",
       "    <tr>\n",
       "      <th>4</th>\n",
       "      <td>4</td>\n",
       "      <td>自驾游三天，商务大通，7人坐10人座的车</td>\n",
       "      <td>山东 滨州 滨州市区 - 山东 东营 东营区</td>\n",
       "      <td>20180616王莽岭</td>\n",
       "      <td>1704615</td>\n",
       "      <td>于 2018-06-16 07:49 出发,历时 2 天, 12 小时</td>\n",
       "      <td>自驾车</td>\n",
       "      <td>120912</td>\n",
       "      <td>wangqiuxiang</td>\n",
       "    </tr>\n",
       "  </tbody>\n",
       "</table>\n",
       "</div>"
      ],
      "text/plain": [
       "   Unnamed: 0                                        description   \n",
       "0           0                 晚公园处扎帐篷，一晚上就是吵，车多，早上停车场就被封了，进入要收费。  \\\n",
       "1           1  这条环线是走过的线路里比较美的一条了，特别是石门那段，沿途溪流和飞瀑相伴，秋色与古道并存，值...   \n",
       "2           2                                                  无   \n",
       "3           3                                          自驾游，有段挺险的   \n",
       "4           4                               自驾游三天，商务大通，7人坐10人座的车   \n",
       "\n",
       "                 location        title   tripid   \n",
       "0   山东 潍坊 诸城市 - 山东 潍坊 诸城市   20180526诸城  1675488  \\\n",
       "1   浙江 宁波 余姚市 - 浙江 宁波 余姚市       余姚燕窝古道   792091   \n",
       "2   浙江 宁波 余姚市 - 浙江 宁波 余姚市         斤岭古道   817344   \n",
       "3   山东 东营 东营区 - 山东 东营 东营区  20180602海上房  1687717   \n",
       "4  山东 滨州 滨州市区 - 山东 东营 东营区  20180616王莽岭  1704615   \n",
       "\n",
       "                                triptime triptype  userid       username  \n",
       "0    于 2018-05-26 19:01 出发,历时 1 小时, 6 分钟     观光旅行  120912   wangqiuxiang  \n",
       "1   于 2015-10-31 08:26 出发,历时 6 小时, 32 分钟       徒步  120916  600690A8B8@qq  \n",
       "2   于 2015-12-27 09:46 出发,历时 4 小时, 23 分钟       徒步  120916  600690A8B8@qq  \n",
       "3  于 2018-06-02 05:33 出发,历时 15 小时, 16 分钟       登山  120912   wangqiuxiang  \n",
       "4    于 2018-06-16 07:49 出发,历时 2 天, 12 小时      自驾车  120912   wangqiuxiang  "
      ]
     },
     "execution_count": 5,
     "metadata": {},
     "output_type": "execute_result"
    }
   ],
   "source": [
    "track_zj = pd.read_csv(to_path+r\"\\rawdata\\行程信息.csv\")\n",
    "track_zj.head()"
   ]
  },
  {
   "cell_type": "markdown",
   "id": "41a091ec",
   "metadata": {
    "tags": []
   },
   "source": [
    "## 数据按出行类型分类"
   ]
  },
  {
   "cell_type": "code",
   "execution_count": 8,
   "id": "dbec5e1a",
   "metadata": {},
   "outputs": [
    {
     "name": "stdout",
     "output_type": "stream",
     "text": [
      "bycicle_all.csv 11940\n",
      "climbing_all.csv 64092\n",
      "driving_all.csv 29723\n",
      "moto_all.csv 892\n",
      "others_all.csv 6653\n",
      "running_all.csv 3409\n",
      "sightsee_all.csv 15366\n",
      "walk_all.csv 89579\n",
      "221654\n"
     ]
    }
   ],
   "source": [
    "work_path = r\"E:\\Netease\\智慧城市\\2.相关代码及说明\\轨迹数据清洗代码及说明(胡宝生)\\轨迹数据分类(可能不完整，需核验)\"\n",
    "type_lst = os.listdir(work_path)\n",
    "\n",
    "sum = 0\n",
    "for type_file in type_lst:\n",
    "    num = len(pd.read_csv(work_path+\"\\\\\"+type_file,encoding=\"gbk\"))\n",
    "    sum += num\n",
    "    print(type_file,num)\n",
    "\n",
    "print(sum)"
   ]
  }
 ],
 "metadata": {
  "kernelspec": {
   "display_name": "Python(gpd)",
   "language": "python",
   "name": "gpd"
  },
  "language_info": {
   "codemirror_mode": {
    "name": "ipython",
    "version": 3
   },
   "file_extension": ".py",
   "mimetype": "text/x-python",
   "name": "python",
   "nbconvert_exporter": "python",
   "pygments_lexer": "ipython3",
   "version": "3.11.3"
  },
  "toc-autonumbering": true,
  "toc-showcode": false,
  "toc-showmarkdowntxt": false,
  "toc-showtags": false
 },
 "nbformat": 4,
 "nbformat_minor": 5
}
